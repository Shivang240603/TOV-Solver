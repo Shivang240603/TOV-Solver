{
 "cells": [
  {
   "cell_type": "code",
   "execution_count": 12,
   "metadata": {},
   "outputs": [],
   "source": [
    "##Import all packages\n",
    "from __future__ import print_function\n",
    "import matplotlib.pyplot as plt\n",
    "import plotly.graph_objects as go\n",
    "import numpy as np\n",
    "from numpy import zeros, arange\n",
    "from scipy.integrate import odeint\n",
    "from math import pi, log10, e, log\n",
    "from ipywidgets import interact, interactive, fixed, interact_manual\n",
    "import ipywidgets as widgets\n",
    "import pandas as pd"
   ]
  },
  {
   "cell_type": "code",
   "execution_count": 13,
   "metadata": {},
   "outputs": [],
   "source": [
    "def lst(min, max, length):\n",
    "  lists = []\n",
    "  for i in range(length):\n",
    "    lists.append(min+(max-min)*i/length)\n",
    "  return lists"
   ]
  },
  {
   "cell_type": "code",
   "execution_count": 14,
   "metadata": {},
   "outputs": [],
   "source": [
    "##Equation of state that returns density based on the pressure\n",
    "def eos(p, K, g):\n",
    "  rho = (p/K)**(1/g) + p/(g-1)\n",
    "  return rho"
   ]
  },
  {
   "cell_type": "code",
   "execution_count": 15,
   "metadata": {},
   "outputs": [],
   "source": [
    "def piece(p):\n",
    "  global minP\n",
    "  global maxP\n",
    "  global pieces\n",
    "  global gammaMin\n",
    "  global gammaMax\n",
    "\n",
    "  ps = lst(minP, maxP, pieces)\n",
    "  gs = lst(gammaMin, gammaMax, pieces)\n",
    "\n",
    "  k_i = [1]\n",
    "\n",
    "  for i in range(len(gs)-1):\n",
    "    k_i.append(k_i[i]*ps[i]**(gs[i]-gs[i+1]))\n",
    "\n",
    "  for i in range(len(ps)):\n",
    "    if p < e**ps[i]:\n",
    "      return(eos(p, k_i[i], gs[i]))\n",
    "  return(eos(p, k_i[-1], gammaMax))\n"
   ]
  },
  {
   "cell_type": "code",
   "execution_count": 16,
   "metadata": {},
   "outputs": [],
   "source": [
    "minP = None\n",
    "maxP = None\n",
    "pieces = None\n",
    "gammaMin = None\n",
    "gammaMax = None"
   ]
  },
  {
   "cell_type": "code",
   "execution_count": 17,
   "metadata": {},
   "outputs": [],
   "source": [
    "##Completes the TOV equations\n",
    "def tov(vars, radius):\n",
    "  p = vars[0]\n",
    "  m = vars[1]\n",
    "  d = piece(vars[0])\n",
    "  dPdr = -1*(((d+p)*(m+(4*pi*p*radius**3)))/(radius*(radius-(2*m))))\n",
    "  dmdr = 4*pi*d*radius**2\n",
    "  return dPdr, dmdr"
   ]
  },
  {
   "cell_type": "code",
   "execution_count": 18,
   "metadata": {},
   "outputs": [],
   "source": [
    "##Integrates the system of differential equations\n",
    "##  and calculates the maximum stable mass and radius based on pressure\n",
    "def tovSolve(pres, sP, bP, pie, sG, bG):\n",
    "\n",
    "  global minP\n",
    "  global maxP\n",
    "  global pieces\n",
    "  global gammaMin\n",
    "  global gammaMax\n",
    "\n",
    "  minP = sP\n",
    "  maxP = bP\n",
    "  pieces = pie\n",
    "  gammaMin = sG\n",
    "  gammaMax = bG\n",
    "\n",
    "  pressureCutoff = 1e-13*pres\n",
    "\n",
    "  startingRadius =1e-5\n",
    "  finalRadius = 4\n",
    "  step = 0.0001\n",
    "\n",
    "  ans = odeint(tov, [pres, 0],arange(startingRadius, finalRadius, step), printmessg=1)\n",
    "\n",
    "  radii = arange(startingRadius, finalRadius, step)\n",
    "  masses = ans[:,1]\n",
    "  pressures = ans[:,0]\n",
    "\n",
    "  count = 0\n",
    "  mass = 0.0\n",
    "  radius = startingRadius\n",
    "\n",
    "  for i in pressures:\n",
    "    if i > pressureCutoff:\n",
    "      count += 1\n",
    "  radius = (count-1)*step\n",
    "  mass = masses[count-1]\n",
    "\n",
    "  return radius, mass"
   ]
  },
  {
   "cell_type": "code",
   "execution_count": 19,
   "metadata": {},
   "outputs": [],
   "source": [
    "##Sets up the data for the Mass VS Radius plot using varying central density\n",
    "def mass_radius(minimumPresLn, maximumPresLn, step, sP, bP, pie, sG, bG):\n",
    "  pres = zeros(step)\n",
    "  mass = zeros(step)\n",
    "  radius = zeros(step)\n",
    "  dens = zeros(step)\n",
    "  for i in range(step):\n",
    "    pres[i] = minimumPresLn + (maximumPresLn-minimumPresLn)*i/step\n",
    "    radius[i],mass[i] = tovSolve(e**pres[i], sP, bP, pie, sG, bG)\n",
    "  for m in range(len(mass)):\n",
    "    mass[m]*=8.54\n",
    "  for r in range(len(radius)):\n",
    "    radius[r]*=12.24\n",
    "\n",
    "  for p in range(len(pres)):\n",
    "    dens[p] = log(piece(e**pres[p]))\n",
    "\n",
    "  return radius, mass, pres, dens"
   ]
  },
  {
   "cell_type": "code",
   "execution_count": 20,
   "metadata": {},
   "outputs": [
    {
     "data": {
      "application/vnd.jupyter.widget-view+json": {
       "model_id": "c0e9903f81c748788c0ccd3a3d3b1f8b",
       "version_major": 2,
       "version_minor": 0
      },
      "text/plain": [
       "interactive(children=(FloatSlider(value=-10.0, description='sP', max=-8.0, min=-12.0, step=0.25), FloatSlider(…"
      ]
     },
     "metadata": {},
     "output_type": "display_data"
    }
   ],
   "source": [
    "ms =[]\n",
    "rs = []\n",
    "def series(sP, bP, pie, sG, bG):\n",
    "    global ms\n",
    "    global rs\n",
    "\n",
    "    ans = mass_radius(-12, 3, 20, sP, bP, pie, sG, bG)\n",
    "    ms.append(list(ans[1]))\n",
    "    rs.append(list(ans[0]))\n",
    "    for i in range(len(rs)):\n",
    "      plt.scatter(rs[i], ms[i])\n",
    "      plt.xlabel('Radius (Km)')\n",
    "      plt.ylabel('Mass (Solar Masses)')\n",
    "w = interact(series, sP=(-12, -8, 0.25), bP=(0, 5, 0.25), pie=(5,100,1), sG=(1.9, 2, 0.01), bG=(2.01, 2.1, 0.01));"
   ]
  },
  {
   "cell_type": "code",
   "execution_count": 21,
   "metadata": {},
   "outputs": [
    {
     "name": "stderr",
     "output_type": "stream",
     "text": [
      "C:\\Users\\kalha\\AppData\\Local\\Temp\\ipykernel_6908\\3407550356.py:3: RuntimeWarning: invalid value encountered in scalar power\n",
      "  rho = (p/K)**(1/g) + p/(g-1)\n",
      "C:\\Users\\kalha\\AppData\\Local\\Temp\\ipykernel_6908\\3481544681.py:23: ODEintWarning: Excess accuracy requested (tolerances too small). Run with full_output = 1 to get quantitative information.\n",
      "  ans = odeint(tov, [pres, 0],arange(startingRadius, finalRadius, step), printmessg=1)\n",
      "C:\\Users\\kalha\\AppData\\Local\\Temp\\ipykernel_6908\\622765697.py:16: ComplexWarning: Casting complex values to real discards the imaginary part\n",
      "  dens[p] = log(piece(e**pres[p]))\n"
     ]
    },
    {
     "name": "stdout",
     "output_type": "stream",
     "text": [
      "0\n",
      "1\n",
      "2\n",
      "3\n",
      "4\n",
      "5\n",
      "6\n",
      "7\n",
      "8\n",
      "9\n",
      "10\n",
      "11\n",
      "12\n",
      "13\n",
      "14\n",
      "15\n"
     ]
    }
   ],
   "source": [
    "import random\n",
    "\n",
    "rows = []\n",
    "for k in range(25):\n",
    "  sP = random.random()*-4-8\n",
    "  bP = random.random()*5\n",
    "  pie = int(random.random()*95+5)\n",
    "  sG = random.random()*0.1+1.9\n",
    "  bG = random.random()*0.1+2.01\n",
    "\n",
    "  ans = mass_radius(-12, 3, 20, sP, bP, pie, sG, bG)\n",
    "\n",
    "  l = list(ans[0]) + list(ans[1])\n",
    "  l.append(sP)\n",
    "  l.append(bP)\n",
    "  l.append(pie)\n",
    "  l.append(sG)\n",
    "  l.append(bG)\n",
    "  rows.append(l)\n",
    "\n",
    "  print(k)"
   ]
  },
  {
   "cell_type": "code",
   "execution_count": null,
   "metadata": {},
   "outputs": [],
   "source": [
    "import pandas as pd\n",
    "\n",
    "data = rows\n",
    "column = ['A', 'B', 'C', 'D', 'E', 'F', 'G', 'H', 'I', 'J', 'K', 'L', 'M', 'N', 'O', 'P', 'Q', 'R', 'S', 'T', 'U', 'V', 'W', 'X', 'Y', 'Z', 'AA', 'AB', 'AC', 'AD', 'AE', 'AF', 'AG', 'AH', 'AI', 'AJ', 'AK', 'AL', 'AM', 'AN', 'AO', 'AP', 'AQ', 'AR', 'AS']\n",
    "df = pd.DataFrame(data, columns=column)\n",
    "\n",
    "df.to_csv(r'NeutronCurveTrainer.csv', index = False)"
   ]
  }
 ],
 "metadata": {
  "kernelspec": {
   "display_name": "Python 3",
   "language": "python",
   "name": "python3"
  },
  "language_info": {
   "codemirror_mode": {
    "name": "ipython",
    "version": 3
   },
   "file_extension": ".py",
   "mimetype": "text/x-python",
   "name": "python",
   "nbconvert_exporter": "python",
   "pygments_lexer": "ipython3",
   "version": "3.10.5"
  }
 },
 "nbformat": 4,
 "nbformat_minor": 2
}
